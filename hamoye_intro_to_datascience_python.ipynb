{
 "metadata": {
  "language_info": {
   "codemirror_mode": {
    "name": "ipython",
    "version": 3
   },
   "file_extension": ".py",
   "mimetype": "text/x-python",
   "name": "python",
   "nbconvert_exporter": "python",
   "pygments_lexer": "ipython3",
   "version": 3
  },
  "orig_nbformat": 2,
  "kernelspec": {
   "name": "python_defaultSpec_1595328183443",
   "display_name": "Python 3.8.3 64-bit ('numpy': venv)"
  }
 },
 "nbformat": 4,
 "nbformat_minor": 2,
 "cells": [
  {
   "cell_type": "code",
   "execution_count": 3,
   "metadata": {},
   "outputs": [
    {
     "output_type": "execute_result",
     "data": {
      "text/plain": "       utility_id_ferc1   report_year  fuel_qty_burned  fuel_mmbtu_per_unit  \\\ncount      29523.000000  29523.000000     2.952300e+04         29523.000000   \nmean         118.601836   2005.806050     2.622119e+06             8.492111   \nstd           74.178353      7.025483     9.118004e+06            10.600220   \nmin            1.000000   1994.000000     1.000000e+00             0.000001   \n25%           55.000000   2000.000000     1.381700e+04             1.024000   \n50%          122.000000   2006.000000     2.533220e+05             5.762694   \n75%          176.000000   2012.000000     1.424034e+06            17.006000   \nmax          514.000000   2018.000000     5.558942e+08           341.260000   \n\n       fuel_cost_per_unit_burned  fuel_cost_per_unit_delivered  \\\ncount               29523.000000                  2.952300e+04   \nmean                  208.649031                  9.175704e+02   \nstd                  2854.490090                  6.877593e+04   \nmin                  -276.080000                 -8.749370e+02   \n25%                     5.207000                  3.778500e+00   \n50%                    26.000000                  1.737100e+01   \n75%                    47.113000                  4.213700e+01   \nmax                139358.000000                  7.964521e+06   \n\n       fuel_cost_per_mmbtu  \ncount         29523.000000  \nmean             19.304354  \nstd            2091.540939  \nmin             -41.501000  \n25%               1.940000  \n50%               4.127000  \n75%               7.745000  \nmax          359278.000000  ",
      "text/html": "<div>\n<style scoped>\n    .dataframe tbody tr th:only-of-type {\n        vertical-align: middle;\n    }\n\n    .dataframe tbody tr th {\n        vertical-align: top;\n    }\n\n    .dataframe thead th {\n        text-align: right;\n    }\n</style>\n<table border=\"1\" class=\"dataframe\">\n  <thead>\n    <tr style=\"text-align: right;\">\n      <th></th>\n      <th>utility_id_ferc1</th>\n      <th>report_year</th>\n      <th>fuel_qty_burned</th>\n      <th>fuel_mmbtu_per_unit</th>\n      <th>fuel_cost_per_unit_burned</th>\n      <th>fuel_cost_per_unit_delivered</th>\n      <th>fuel_cost_per_mmbtu</th>\n    </tr>\n  </thead>\n  <tbody>\n    <tr>\n      <th>count</th>\n      <td>29523.000000</td>\n      <td>29523.000000</td>\n      <td>2.952300e+04</td>\n      <td>29523.000000</td>\n      <td>29523.000000</td>\n      <td>2.952300e+04</td>\n      <td>29523.000000</td>\n    </tr>\n    <tr>\n      <th>mean</th>\n      <td>118.601836</td>\n      <td>2005.806050</td>\n      <td>2.622119e+06</td>\n      <td>8.492111</td>\n      <td>208.649031</td>\n      <td>9.175704e+02</td>\n      <td>19.304354</td>\n    </tr>\n    <tr>\n      <th>std</th>\n      <td>74.178353</td>\n      <td>7.025483</td>\n      <td>9.118004e+06</td>\n      <td>10.600220</td>\n      <td>2854.490090</td>\n      <td>6.877593e+04</td>\n      <td>2091.540939</td>\n    </tr>\n    <tr>\n      <th>min</th>\n      <td>1.000000</td>\n      <td>1994.000000</td>\n      <td>1.000000e+00</td>\n      <td>0.000001</td>\n      <td>-276.080000</td>\n      <td>-8.749370e+02</td>\n      <td>-41.501000</td>\n    </tr>\n    <tr>\n      <th>25%</th>\n      <td>55.000000</td>\n      <td>2000.000000</td>\n      <td>1.381700e+04</td>\n      <td>1.024000</td>\n      <td>5.207000</td>\n      <td>3.778500e+00</td>\n      <td>1.940000</td>\n    </tr>\n    <tr>\n      <th>50%</th>\n      <td>122.000000</td>\n      <td>2006.000000</td>\n      <td>2.533220e+05</td>\n      <td>5.762694</td>\n      <td>26.000000</td>\n      <td>1.737100e+01</td>\n      <td>4.127000</td>\n    </tr>\n    <tr>\n      <th>75%</th>\n      <td>176.000000</td>\n      <td>2012.000000</td>\n      <td>1.424034e+06</td>\n      <td>17.006000</td>\n      <td>47.113000</td>\n      <td>4.213700e+01</td>\n      <td>7.745000</td>\n    </tr>\n    <tr>\n      <th>max</th>\n      <td>514.000000</td>\n      <td>2018.000000</td>\n      <td>5.558942e+08</td>\n      <td>341.260000</td>\n      <td>139358.000000</td>\n      <td>7.964521e+06</td>\n      <td>359278.000000</td>\n    </tr>\n  </tbody>\n</table>\n</div>"
     },
     "metadata": {},
     "execution_count": 3
    }
   ],
   "source": [
    "import numpy as np\n",
    "import pandas as pd\n",
    "fuel_data = pd.read_csv('fuel_data.csv')\n",
    "fuel_data.describe()"
   ]
  },
  {
   "cell_type": "code",
   "execution_count": 16,
   "metadata": {
    "tags": []
   },
   "outputs": [
    {
     "output_type": "stream",
     "name": "stdout",
     "text": "fuel_qty_burned_skew: 15.851495469109503 fuel_qty_burned_kurtosis: 651.3694501337732\n"
    }
   ],
   "source": [
    "# Skewness and Kurtosis\n",
    "fuel_qty_burned_skew=fuel_data.skew()[\"fuel_qty_burned\"]\n",
    "fuel_qty_burned_kurtosis = fuel_data.kurtosis()[\"fuel_qty_burned\"]\n",
    "\n",
    "print(f\"fuel_qty_burned_skew: {fuel_qty_burned_skew}\", f\"fuel_qty_burned_kurtosis: {fuel_qty_burned_kurtosis}\")"
   ]
  },
  {
   "cell_type": "code",
   "execution_count": 15,
   "metadata": {
    "tags": []
   },
   "outputs": [
    {
     "output_type": "stream",
     "name": "stdout",
     "text": "Standard_deviation: 10.600220307806714 percentage_75: 17.006\n"
    }
   ],
   "source": [
    "# Standard deviation and 75th percentile of fuel_mmbtu_per_unit\n",
    "description = fuel_data.describe()[\"fuel_mmbtu_per_unit\"]\n",
    "Standard_deviation = description[\"std\"]\n",
    "percentage_75 = description[\"75%\"]\n",
    "\n",
    "print(f\"Standard_deviation: {Standard_deviation}\", f\"percentage_75: {percentage_75}\")"
   ]
  },
  {
   "cell_type": "code",
   "execution_count": 24,
   "metadata": {
    "tags": []
   },
   "outputs": [
    {
     "output_type": "stream",
     "name": "stdout",
     "text": "fuel_type_code_pudl\ngas    13.659397\nName: fuel_cost_per_unit_burned, dtype: float64\n"
    }
   ],
   "source": [
    "# Fuel type code with the lowest average cost per unit burned\n",
    "fuel_code=fuel_data.groupby('fuel_type_code_pudl')[\"fuel_cost_per_unit_burned\"].mean()\n",
    "mini = fuel_code.min()\n",
    "print(fuel_code[fuel_code==fuel_code.min()])"
   ]
  },
  {
   "cell_type": "code",
   "execution_count": 25,
   "metadata": {},
   "outputs": [
    {
     "output_type": "execute_result",
     "data": {
      "text/plain": "report_year\n1997    11140.197239\nName: fuel_cost_per_unit_delivered, dtype: float64"
     },
     "metadata": {},
     "execution_count": 25
    }
   ],
   "source": [
    "# Year with the highest average fuel cost per unit delivered\n",
    "delivered=fuel_data.groupby('report_year')[\"fuel_cost_per_unit_delivered\"].mean()\n",
    "delivered[delivered==delivered.max()]"
   ]
  },
  {
   "cell_type": "code",
   "execution_count": 33,
   "metadata": {},
   "outputs": [
    {
     "output_type": "execute_result",
     "data": {
      "text/plain": "record_id                       False\nutility_id_ferc1                False\nreport_year                     False\nplant_name_ferc1                False\nfuel_type_code_pudl             False\nfuel_unit                        True\nfuel_qty_burned                 False\nfuel_mmbtu_per_unit             False\nfuel_cost_per_unit_burned       False\nfuel_cost_per_unit_delivered    False\nfuel_cost_per_mmbtu             False\ndtype: bool"
     },
     "metadata": {},
     "execution_count": 33
    }
   ],
   "source": [
    "# Feature with missing values, Total of missing values and percentage of missing rows as a factor of rows\n",
    "fuel_data_nulls = fuel_data.isnull().any()\n",
    "print(fuel_data_nulls)\n"
   ]
  },
  {
   "cell_type": "code",
   "execution_count": 35,
   "metadata": {
    "tags": []
   },
   "outputs": [
    {
     "output_type": "stream",
     "name": "stdout",
     "text": "record_id                         0\nutility_id_ferc1                  0\nreport_year                       0\nplant_name_ferc1                  0\nfuel_type_code_pudl               0\nfuel_unit                       180\nfuel_qty_burned                   0\nfuel_mmbtu_per_unit               0\nfuel_cost_per_unit_burned         0\nfuel_cost_per_unit_delivered      0\nfuel_cost_per_mmbtu               0\ndtype: int64\n"
    }
   ],
   "source": [
    "nulls_total = fuel_data.isna().sum()\n",
    "print(nulls_total)"
   ]
  },
  {
   "cell_type": "code",
   "execution_count": 37,
   "metadata": {},
   "outputs": [
    {
     "output_type": "execute_result",
     "data": {
      "text/plain": "0.003387189648748433"
     },
     "metadata": {},
     "execution_count": 37
    }
   ],
   "source": [
    "lent_of_fuel_data = len(fuel_data)\n",
    "fuel_unit_nulls=fuel_data_nulls[\"fuel_unit\"]\n",
    "percentage_missing_rows = (fuel_unit_nulls/lent_of_fuel_data) *100\n",
    "percentage_missing_rows"
   ]
  },
  {
   "cell_type": "code",
   "execution_count": 39,
   "metadata": {},
   "outputs": [
    {
     "output_type": "execute_result",
     "data": {
      "text/plain": "                              utility_id_ferc1  report_year  fuel_qty_burned  \\\nutility_id_ferc1                      1.000000     0.093323        -0.057447   \nreport_year                           0.093323     1.000000         0.012952   \nfuel_qty_burned                      -0.057447     0.012952         1.000000   \nfuel_mmbtu_per_unit                  -0.066946    -0.110853        -0.080946   \nfuel_cost_per_unit_burned            -0.037863     0.013599        -0.018535   \nfuel_cost_per_unit_delivered         -0.016414    -0.014043        -0.003551   \nfuel_cost_per_mmbtu                   0.006122     0.010261        -0.001896   \n\n                              fuel_mmbtu_per_unit  fuel_cost_per_unit_burned  \\\nutility_id_ferc1                        -0.066946                  -0.037863   \nreport_year                             -0.110853                   0.013599   \nfuel_qty_burned                         -0.080946                  -0.018535   \nfuel_mmbtu_per_unit                      1.000000                  -0.010034   \nfuel_cost_per_unit_burned               -0.010034                   1.000000   \nfuel_cost_per_unit_delivered            -0.009039                   0.011007   \nfuel_cost_per_mmbtu                     -0.005884                  -0.000437   \n\n                              fuel_cost_per_unit_delivered  \\\nutility_id_ferc1                                 -0.016414   \nreport_year                                      -0.014043   \nfuel_qty_burned                                  -0.003551   \nfuel_mmbtu_per_unit                              -0.009039   \nfuel_cost_per_unit_burned                         0.011007   \nfuel_cost_per_unit_delivered                      1.000000   \nfuel_cost_per_mmbtu                              -0.000109   \n\n                              fuel_cost_per_mmbtu  \nutility_id_ferc1                         0.006122  \nreport_year                              0.010261  \nfuel_qty_burned                         -0.001896  \nfuel_mmbtu_per_unit                     -0.005884  \nfuel_cost_per_unit_burned               -0.000437  \nfuel_cost_per_unit_delivered            -0.000109  \nfuel_cost_per_mmbtu                      1.000000  ",
      "text/html": "<div>\n<style scoped>\n    .dataframe tbody tr th:only-of-type {\n        vertical-align: middle;\n    }\n\n    .dataframe tbody tr th {\n        vertical-align: top;\n    }\n\n    .dataframe thead th {\n        text-align: right;\n    }\n</style>\n<table border=\"1\" class=\"dataframe\">\n  <thead>\n    <tr style=\"text-align: right;\">\n      <th></th>\n      <th>utility_id_ferc1</th>\n      <th>report_year</th>\n      <th>fuel_qty_burned</th>\n      <th>fuel_mmbtu_per_unit</th>\n      <th>fuel_cost_per_unit_burned</th>\n      <th>fuel_cost_per_unit_delivered</th>\n      <th>fuel_cost_per_mmbtu</th>\n    </tr>\n  </thead>\n  <tbody>\n    <tr>\n      <th>utility_id_ferc1</th>\n      <td>1.000000</td>\n      <td>0.093323</td>\n      <td>-0.057447</td>\n      <td>-0.066946</td>\n      <td>-0.037863</td>\n      <td>-0.016414</td>\n      <td>0.006122</td>\n    </tr>\n    <tr>\n      <th>report_year</th>\n      <td>0.093323</td>\n      <td>1.000000</td>\n      <td>0.012952</td>\n      <td>-0.110853</td>\n      <td>0.013599</td>\n      <td>-0.014043</td>\n      <td>0.010261</td>\n    </tr>\n    <tr>\n      <th>fuel_qty_burned</th>\n      <td>-0.057447</td>\n      <td>0.012952</td>\n      <td>1.000000</td>\n      <td>-0.080946</td>\n      <td>-0.018535</td>\n      <td>-0.003551</td>\n      <td>-0.001896</td>\n    </tr>\n    <tr>\n      <th>fuel_mmbtu_per_unit</th>\n      <td>-0.066946</td>\n      <td>-0.110853</td>\n      <td>-0.080946</td>\n      <td>1.000000</td>\n      <td>-0.010034</td>\n      <td>-0.009039</td>\n      <td>-0.005884</td>\n    </tr>\n    <tr>\n      <th>fuel_cost_per_unit_burned</th>\n      <td>-0.037863</td>\n      <td>0.013599</td>\n      <td>-0.018535</td>\n      <td>-0.010034</td>\n      <td>1.000000</td>\n      <td>0.011007</td>\n      <td>-0.000437</td>\n    </tr>\n    <tr>\n      <th>fuel_cost_per_unit_delivered</th>\n      <td>-0.016414</td>\n      <td>-0.014043</td>\n      <td>-0.003551</td>\n      <td>-0.009039</td>\n      <td>0.011007</td>\n      <td>1.000000</td>\n      <td>-0.000109</td>\n    </tr>\n    <tr>\n      <th>fuel_cost_per_mmbtu</th>\n      <td>0.006122</td>\n      <td>0.010261</td>\n      <td>-0.001896</td>\n      <td>-0.005884</td>\n      <td>-0.000437</td>\n      <td>-0.000109</td>\n      <td>1.000000</td>\n    </tr>\n  </tbody>\n</table>\n</div>"
     },
     "metadata": {},
     "execution_count": 39
    }
   ],
   "source": [
    "# Features that has second and third lowest correlation with the fuel cost per unit burned\n",
    "fuel_data.corr()"
   ]
  },
  {
   "cell_type": "code",
   "execution_count": null,
   "metadata": {},
   "outputs": [],
   "source": []
  }
 ]
}